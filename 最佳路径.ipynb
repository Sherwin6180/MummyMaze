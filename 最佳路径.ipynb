{
 "cells": [
  {
   "cell_type": "code",
   "execution_count": 6,
   "metadata": {},
   "outputs": [],
   "source": [
    "vwallR = [(0,4), (1,6), (1,8), (3,8), (4,6), (5,3), (5,8), (7,0), (7,4), (7,5), (7,7), (8,3), (8,5), (9,0)]\n",
    "hwallD = [(0,0), (0,7), (0,8), (1,3), (2,4), (2,7), (3,4), (3,7), (4,3), (4,8), (5,2), (6,2), (7,3), (7,8), (7,9), (8,1), (8,4)]\n",
    "vwallL = [(0, 5), (1, 7), (1, 9), (3, 9), (4, 7), (5, 4), (5, 9), (7, 1), (7, 5), (7, 6), (7, 8), (8, 4), (8, 6), (9, 1)]\n",
    "hwallU = [(1, 0), (1, 7), (1, 8), (2, 3), (3, 4), (3, 7), (4, 4), (4, 7), (5, 3), (5, 8), (6, 2), (7, 2), (8, 3), (8, 8), (8, 9), (9, 1), (9, 4)]\n"
   ]
  },
  {
   "cell_type": "markdown",
   "metadata": {},
   "source": [
    "木乃伊按照最佳路径\n",
    "* playerX < mummyX $\\rightarrow$ 'U'\n",
    "* playerX > mummyX $\\rightarrow$ 'D'\n",
    "* playerY > mummyY $\\rightarrow$ 'R'\n",
    "* playerY < mummyY $\\rightarrow$ 'L'"
   ]
  },
  {
   "cell_type": "code",
   "execution_count": 2,
   "metadata": {},
   "outputs": [
    {
     "data": {
      "text/plain": [
       "[(5, 7), (5, 6), (5, 5), (5, 4), (5, 3), (5, 2), (5, 1), (4, 1), (3, 1)]"
      ]
     },
     "execution_count": 2,
     "metadata": {},
     "output_type": "execute_result"
    }
   ],
   "source": [
    "def idealRouteGenerator(mummyState, playerState):\n",
    "    footprint = []\n",
    "\n",
    "    mummyX, mummyY = mummyState\n",
    "    playerX, playerY = playerState\n",
    "    \n",
    "    Right = True if (playerX >= mummyX) else False\n",
    "    Down = True if (playerY >= mummyY) else False\n",
    "    \n",
    "    incrementX = 1 if Right else -1\n",
    "    incrementY = 1 if Down else -1\n",
    "    \n",
    "    x, y = mummyX, mummyY\n",
    "    \n",
    "    #理想情况\n",
    "    while y != playerY:\n",
    "        y += incrementY\n",
    "        footprint.append((x,y))\n",
    "    \n",
    "    while x != playerX:\n",
    "        x += incrementX\n",
    "        footprint.append((x,y))\n",
    "    \n",
    "    return footprint\n",
    "    \n",
    "idealRouteGenerator((5,8),(3,1))\n",
    "    "
   ]
  },
  {
   "cell_type": "code",
   "execution_count": 98,
   "metadata": {},
   "outputs": [],
   "source": [
    "def bestRouteGenerator(mummyState, playerState):\n",
    "    mummyX, mummyY = mummyState\n",
    "    playerX, playerY = playerState\n",
    "    # 战略角度上的方向\n",
    "\n",
    "    # 纠错\n",
    "\n",
    "    ideal = idealRouteGenerator(mummyState, playerState)\n",
    "\n",
    "    i = 0\n",
    "    final = []\n",
    "    #用一个临时列表存储当前的最佳路径\n",
    "    tmp = ideal\n",
    "    #在开头插入起点，避免漏掉开头被卡住的情况\n",
    "    tmp.insert(0, mummyState)\n",
    "    #因为实在方格地图中，所以总步数不变\n",
    "    length = len(tmp)\n",
    "\n",
    "    while i < length:\n",
    "        #判断当前行动的方向\n",
    "        Right = True if (playerY > tmp[0][1]) else False\n",
    "        Left = True if (playerY < tmp[0][1]) else False\n",
    "        Down = True if (playerX > tmp[0][0]) else False\n",
    "        Up = True if (playerX < tmp[0][0]) else False\n",
    "        \n",
    "        #两种被卡住的情况\n",
    "        #stuck1:在水平方向上被卡住\n",
    "        stuck1 = True if ((Right and (tmp[0] in vwallR)) or (Left and (tmp[0] in vwallL))) else False\n",
    "        #stuck2:在竖直方向上被卡住\n",
    "        stuck2 = True if ((Up and (tmp[0] in hwallU)) or (Down and (tmp[0] in hwallD))) else False\n",
    "        \n",
    "        #两个方向上都没被卡住\n",
    "        if (not stuck1) and (not stuck2):\n",
    "            #在最终列表中记录这一步\n",
    "            final.append(tmp[0])\n",
    "            #在临时最佳列表中删掉，让下一步成为第一个\n",
    "            del tmp[0]\n",
    "\n",
    "        #在水平方向上被卡住而在竖直方向上是通畅的\n",
    "        elif stuck1 and (not stuck2):\n",
    "            #记录下开头的这一步，不然会在后面tmp列表改变后丢失\n",
    "            head = tmp[0]\n",
    "            final.append(tmp[0])\n",
    "            #如果在整体方向上应该往上走\n",
    "            if Up:\n",
    "                #向上平移一步，并得到新的最佳路径\n",
    "                tmp = idealRouteGenerator((tmp[0][0] - 1, tmp[0][1]), playerState)\n",
    "                tmp.insert(0, (head[0] - 1, head[1]))\n",
    "            elif Down:\n",
    "                #向下平移一步，并得到新的最佳路径\n",
    "                tmp = idealRouteGenerator((tmp[0][0] + 1, tmp[0][1]), playerState)\n",
    "                tmp.insert(0, (head[0] + 1, head[1]))\n",
    "            else:\n",
    "                #水平方向被卡住，并且目标在同一水平直线上\n",
    "                break\n",
    "        elif stuck2 and (not stuck1):\n",
    "            head = tmp[0]\n",
    "            final.append(tmp[0])\n",
    "            if Left:\n",
    "                tmp = idealRouteGenerator((tmp[0][0], tmp[0][1] - 1), playerState)\n",
    "                tmp.insert(0, (head[0], head[1] - 1))\n",
    "            elif Right:\n",
    "                tmp = idealRouteGenerator((tmp[0][0], tmp[0][1] + 1), playerState)\n",
    "                tmp.insert(0, (head[0], head[1] + 1))\n",
    "            else:\n",
    "                #竖直方向被卡住，并且目标在同一竖直直线上\n",
    "                break\n",
    "        #两个方向都被卡住\n",
    "        else:\n",
    "            final.append(tmp[0])\n",
    "            break\n",
    "        i += 1\n",
    "        \n",
    "    return final\n"
   ]
  },
  {
   "cell_type": "code",
   "execution_count": 3,
   "metadata": {},
   "outputs": [
    {
     "name": "stdout",
     "output_type": "stream",
     "text": [
      "['U']\n"
     ]
    }
   ],
   "source": [
    "def bestActionGenerator(mummyState, playerState):\n",
    "    steps_X = []\n",
    "    steps_Y = []\n",
    "    mummyX, mummyY = mummyState\n",
    "    playerX, playerY = playerState\n",
    "    \n",
    "    diff_X = abs(mummyX-playerX)\n",
    "    diff_Y = abs(mummyY-playerY)\n",
    "    \n",
    "    if playerX <= mummyX:\n",
    "        for i in range(diff_X):\n",
    "            steps_X.append('U')\n",
    "    \n",
    "    if playerX >= mummyX:\n",
    "        for i in range(diff_X):\n",
    "            steps_X.append('D')\n",
    "            \n",
    "    if playerY <= mummyY:\n",
    "        for i in range(diff_Y):\n",
    "            steps_Y.append('L')\n",
    "    \n",
    "    if playerY >= mummyY:\n",
    "        for i in range(diff_Y):\n",
    "            steps_Y.append('R')\n",
    "    \n",
    "    steps = steps_X + steps_Y\n",
    "    print(steps)\n",
    "\n",
    "bestActionGenerator((4,1),(3,1))"
   ]
  }
 ],
 "metadata": {
  "kernelspec": {
   "display_name": "Python 3",
   "language": "python",
   "name": "python3"
  },
  "language_info": {
   "codemirror_mode": {
    "name": "ipython",
    "version": 3
   },
   "file_extension": ".py",
   "mimetype": "text/x-python",
   "name": "python",
   "nbconvert_exporter": "python",
   "pygments_lexer": "ipython3",
   "version": "3.7.7"
  }
 },
 "nbformat": 4,
 "nbformat_minor": 4
}
