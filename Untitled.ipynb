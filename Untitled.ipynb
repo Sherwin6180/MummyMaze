{
 "cells": [
  {
   "cell_type": "code",
   "execution_count": null,
   "metadata": {},
   "outputs": [],
   "source": [
    "def play(self, ):\n",
    "# 玩家走一步\n",
    "\n",
    "# 判断玩家是否到终点（出口和陷阱）\n",
    "# 若已经到达终点，则对前面的步骤进行点数分配\n",
    "    if self.State.isEnd:\n",
    "        # 给予reward\n",
    "        reward = self.State.give_reward()\n",
    "        # 对之前每一步分配点数\n",
    "        for s in reversed(self.steps_list):\n",
    "            # 根据上一格对这一格进行赋值\n",
    "            reward = self.board_value[s] + self.lr * (reward - self.board_value[s])\n",
    "            self.board_value[s] = round(reward, 3)\n",
    "        # 清零\n",
    "        self.reset()\n",
    "        i += 1\n",
    "    # 若还没到终点，则开始下一步\n",
    "    else:\n",
    "        # 选择下一步\n",
    "        action = self.chooseAction()\n",
    "        # 将该步骤保存到步骤列表中\n",
    "        self.steps_list.append(self.State.nxt_position(action))\n",
    "        # 迈向下一步(更新对象)\n",
    "        self.State = self.takeAction(action)\n",
    "        # 标记状态(到终点与否)\n",
    "        self.State.SetEnd() #还要进行修改\n",
    "        self.isEnd = self.State.isEnd\n",
    "# 更新玩家的位置\n",
    "\n",
    "# 木乃伊走两步\n",
    "\n",
    "# 更新木乃伊的位置\n",
    "\n",
    "# 判断木乃伊的isCaught\n",
    "\n",
    "# 蝎子走一步\n",
    "\n",
    "# 更新蝎子的位置\n",
    "\n",
    "# 判断蝎子的isCaught\n",
    "\n",
    "# 判断蝎子和木乃伊是否相撞"
   ]
  }
 ],
 "metadata": {
  "kernelspec": {
   "display_name": "Python 3",
   "language": "python",
   "name": "python3"
  },
  "language_info": {
   "codemirror_mode": {
    "name": "ipython",
    "version": 3
   },
   "file_extension": ".py",
   "mimetype": "text/x-python",
   "name": "python",
   "nbconvert_exporter": "python",
   "pygments_lexer": "ipython3",
   "version": "3.7.7"
  }
 },
 "nbformat": 4,
 "nbformat_minor": 4
}
